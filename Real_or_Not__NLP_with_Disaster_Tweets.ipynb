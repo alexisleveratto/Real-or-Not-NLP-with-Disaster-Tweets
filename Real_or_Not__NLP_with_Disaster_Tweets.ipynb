{
  "nbformat": 4,
  "nbformat_minor": 0,
  "metadata": {
    "colab": {
      "name": "Real or Not? NLP with Disaster Tweets.ipynb",
      "provenance": [],
      "collapsed_sections": [
        "NQaHS-u_NF_o",
        "_TNWkv-UeDcI",
        "20dciPk0BYXs",
        "N4DjPi2AHvq3"
      ]
    },
    "kernelspec": {
      "name": "python3",
      "display_name": "Python 3"
    }
  },
  "cells": [
    {
      "cell_type": "markdown",
      "metadata": {
        "id": "kEDyaSjj0ljp",
        "colab_type": "text"
      },
      "source": [
        "# Competition\n",
        "Twitter has become an important communication channel in times of emergency.\n",
        "The ubiquitousness of smartphones enables people to announce an emergency they’re observing in real-time. Because of this, more agencies are interested in programatically monitoring Twitter (i.e. disaster relief organizations and news agencies).\n",
        "\n",
        "But, it’s not always clear whether a person’s words are actually announcing a disaster.\n",
        "\n",
        "In this competition, you’re challenged to build a machine learning model that predicts which Tweets are about real disasters and which one’s aren’t. You’ll have access to a dataset of 10,000 tweets that were hand classified. If this is your first time working on an NLP problem, we've created a [quick tutorial](https://www.kaggle.com/philculliton/nlp-getting-started-tutorial) to get you up and running."
      ]
    },
    {
      "cell_type": "markdown",
      "metadata": {
        "id": "MaFFFBb4NWC6",
        "colab_type": "text"
      },
      "source": [
        "### Judge Metric.\n",
        "Submissions are evaluated using [F1](https://scikit-learn.org/stable/modules/generated/sklearn.metrics.f1_score.html) between the predicted and expected answers.\n",
        "\n",
        "\\begin{equation*}\n",
        "F_1 =  2 * {\\frac{precision * recall}{precision + recall}}\n",
        "\\end{equation*}\n",
        "\n",
        "where:\n",
        "\\begin{equation*}\n",
        "precision = {\\frac{TP}{TP + FP}}\n",
        "\\end{equation*}\n",
        "and:\n",
        "\\begin{equation*}\n",
        "recall = {\\frac{TP}{TP + FN}}\n",
        "\\end{equation*}\n",
        "\n",
        "* True Positive [TP] = your prediction is 1, and the ground truth is also 1.\n",
        "* False Positive [FP] = your prediction is 1, and the ground truth is 0.\n",
        "* False Negative [FN] = your prediction is 0, and the ground truth is 1."
      ]
    },
    {
      "cell_type": "markdown",
      "metadata": {
        "id": "AI6OBC9Z34fK",
        "colab_type": "text"
      },
      "source": [
        "### What files do I need?\n",
        "You'll need train.csv, test.csv and sample_submission.csv.\n",
        "\n",
        "### What should I expect the data format to be?\n",
        "Each sample in the train and test set has the following information:\n",
        "* The text of a tweet.\n",
        "* A keyword from that tweet (although this may be blank!).\n",
        "* The location the tweet was sent from (may also be blank).\n",
        "\n",
        "### What am I predicting?\n",
        "You are predicting whether a given tweet is about a real disaster or not. If so, predict a 1. If not, predict a 0.\n",
        "\n",
        "### Files\n",
        "* train.csv - the training set\n",
        "* test.csv - the test set\n",
        "* sample_submission.csv - a sample submission file in the correct format\n",
        "\n",
        "### Columns\n",
        "* id - a unique identifier for each tweet\n",
        "* text - the text of the tweet\n",
        "* location - the location the tweet was sent from (may be blank)\n",
        "* keyword - a particular keyword from the tweet (may be blank)\n",
        "target - in train.csv only, this denotes whether a tweet is about a real disaster (1) or not (0)"
      ]
    },
    {
      "cell_type": "code",
      "metadata": {
        "id": "BgZVHhK251ce",
        "colab_type": "code",
        "outputId": "1fdb21d7-a79b-45f0-bd77-26143bbc5299",
        "colab": {
          "base_uri": "https://localhost:8080/",
          "height": 34
        }
      },
      "source": [
        "from google.colab import drive\n",
        "drive.mount('/gdrive', force_remount=True)"
      ],
      "execution_count": 1,
      "outputs": [
        {
          "output_type": "stream",
          "text": [
            "Mounted at /gdrive\n"
          ],
          "name": "stdout"
        }
      ]
    },
    {
      "cell_type": "code",
      "metadata": {
        "id": "30RjwR6e6StF",
        "colab_type": "code",
        "outputId": "26bbe9c2-0582-446d-a556-b841a5d918d9",
        "colab": {
          "base_uri": "https://localhost:8080/",
          "height": 51
        }
      },
      "source": [
        "%cd ..\n",
        "%cd /gdrive/My\\ Drive/Colab\\ Notebooks/Real\\ or\\ Not\\?\\ NLP\\ with\\ Disaster\\ Tweets"
      ],
      "execution_count": 2,
      "outputs": [
        {
          "output_type": "stream",
          "text": [
            "/\n",
            "/gdrive/My Drive/Colab Notebooks/Real or Not? NLP with Disaster Tweets\n"
          ],
          "name": "stdout"
        }
      ]
    },
    {
      "cell_type": "markdown",
      "metadata": {
        "id": "NQaHS-u_NF_o",
        "colab_type": "text"
      },
      "source": [
        "### Importing packages."
      ]
    },
    {
      "cell_type": "code",
      "metadata": {
        "id": "Wlsj05rC5wzk",
        "colab_type": "code",
        "colab": {}
      },
      "source": [
        "# numpy and pandas for data manipulation\n",
        "import math\n",
        "import nltk\n",
        "from   nltk              import bigrams,trigrams\n",
        "from   nltk.collocations import *\n",
        "from   nltk.corpus       import stopwords\n",
        "from   nltk.metrics      import BigramAssocMeasures\n",
        "import numpy as np\n",
        "import os\n",
        "import pandas as pd\n",
        "import re\n",
        "import spacy\n",
        "import string\n",
        "from string import punctuation\n",
        "import time\n",
        "\n",
        "# sklearn preprocessing\n",
        "from sklearn import feature_extraction, linear_model, model_selection, preprocessing\n",
        "from sklearn.impute import SimpleImputer\n",
        "from sklearn.model_selection import train_test_split\n",
        "\n",
        "# Suppress warnings \n",
        "import warnings\n",
        "warnings.filterwarnings('ignore')"
      ],
      "execution_count": 0,
      "outputs": []
    },
    {
      "cell_type": "code",
      "metadata": {
        "id": "dNyr0QosOdyk",
        "colab_type": "code",
        "colab": {
          "base_uri": "https://localhost:8080/",
          "height": 0
        },
        "outputId": "420ed1f2-ffc9-4db1-aad5-3ae310d4507a"
      },
      "source": [
        "nltk.download('averaged_perceptron_tagger')\n",
        "nltk.download('punkt')\n",
        "nltk.download('stopwords')"
      ],
      "execution_count": 4,
      "outputs": [
        {
          "output_type": "stream",
          "text": [
            "[nltk_data] Downloading package averaged_perceptron_tagger to\n",
            "[nltk_data]     /root/nltk_data...\n",
            "[nltk_data]   Package averaged_perceptron_tagger is already up-to-\n",
            "[nltk_data]       date!\n",
            "[nltk_data] Downloading package punkt to /root/nltk_data...\n",
            "[nltk_data]   Package punkt is already up-to-date!\n",
            "[nltk_data] Downloading package stopwords to /root/nltk_data...\n",
            "[nltk_data]   Package stopwords is already up-to-date!\n"
          ],
          "name": "stdout"
        },
        {
          "output_type": "execute_result",
          "data": {
            "text/plain": [
              "True"
            ]
          },
          "metadata": {
            "tags": []
          },
          "execution_count": 4
        }
      ]
    },
    {
      "cell_type": "markdown",
      "metadata": {
        "id": "_TNWkv-UeDcI",
        "colab_type": "text"
      },
      "source": [
        "### Reading Data"
      ]
    },
    {
      "cell_type": "code",
      "metadata": {
        "id": "OJOOukCo6xog",
        "colab_type": "code",
        "colab": {
          "base_uri": "https://localhost:8080/",
          "height": 0
        },
        "outputId": "234a92d1-8b25-4f11-a1a9-a579624f08ce"
      },
      "source": [
        "train_data = pd.read_csv('data/train.csv')\n",
        "train_data.shape"
      ],
      "execution_count": 5,
      "outputs": [
        {
          "output_type": "execute_result",
          "data": {
            "text/plain": [
              "(7613, 5)"
            ]
          },
          "metadata": {
            "tags": []
          },
          "execution_count": 5
        }
      ]
    },
    {
      "cell_type": "code",
      "metadata": {
        "id": "cm1r-uSY7cZb",
        "colab_type": "code",
        "colab": {
          "base_uri": "https://localhost:8080/",
          "height": 0
        },
        "outputId": "1046b490-3469-42fb-ad28-a2d9781d14e9"
      },
      "source": [
        "test_data = pd.read_csv('data/test.csv')\n",
        "test_data.shape"
      ],
      "execution_count": 6,
      "outputs": [
        {
          "output_type": "execute_result",
          "data": {
            "text/plain": [
              "(3263, 4)"
            ]
          },
          "metadata": {
            "tags": []
          },
          "execution_count": 6
        }
      ]
    },
    {
      "cell_type": "code",
      "metadata": {
        "id": "9kSMb8e7BkVs",
        "colab_type": "code",
        "colab": {}
      },
      "source": [
        "#Function to create a regular expression rule using wods\n",
        "def convert_to_rule(word1, word2):\n",
        "    return re.compile(str('(.*)('+word1+\".*\"+word2+')'))"
      ],
      "execution_count": 0,
      "outputs": []
    },
    {
      "cell_type": "markdown",
      "metadata": {
        "id": "20dciPk0BYXs",
        "colab_type": "text"
      },
      "source": [
        "### Preprocessing and normalize text data function"
      ]
    },
    {
      "cell_type": "code",
      "metadata": {
        "id": "lMt2RVsnFh4H",
        "colab_type": "code",
        "colab": {}
      },
      "source": [
        "def clean(text):\n",
        "  # Remove wierd characters\n",
        "  try:\n",
        "    text = str(text.encode('ascii', 'ignore'))\n",
        "  except:\n",
        "    text = 'No Information'\n",
        "\n",
        "  # Remove links/websites from text\n",
        "  text= \" \"+re.sub(r'www[.][\\S]*[.].{3}','',re.sub(r'https?:\\/\\/[\\S]*[.].{3}','',text))+\" \"\n",
        "  \n",
        "  # Calculate Emoticon score:\n",
        "  # 1. Calculate the difference between the number of positive and negative emoticons in the text\n",
        "  emoticon_score = len([emoticon for emoticon in pos_emoticons if emoticon in text]+[symbol for symbol in pos_symbols if symbol in text.lower()]) - len([emoticon for emoticon in neg_emoticons if emoticon in text]+[symbol for symbol in neg_symbols if symbol in text.lower()])\n",
        "\n",
        "  # 2. Give a score to the text from -2 to +2 depending apon the above number\n",
        "  if emoticon_score > 3: \n",
        "    emoticon_score = 2\n",
        "  elif emoticon_score > 0:\n",
        "    emoticon_score = 1\n",
        "  elif emoticon_score == 0:\n",
        "    emoticon_score = 0\n",
        "  elif emoticon_score >- 3: \n",
        "    emoticon_score =-1\n",
        "  else:\n",
        "    emoticon_score =-2\n",
        "  # Remove numbers from text\n",
        "  text = re.sub(r'[0-9]*','',text.lower())\n",
        "  text = re.sub(r'[0-9]+[0-9.,]+[0-9]+','',text)\n",
        "\n",
        "  # Replace generic phrases by corresponding normalised phrases\n",
        "  for p, phrase in enumerate(generic_phrases):\n",
        "    if phrase in text:\n",
        "      text = text.replace(phrase, normalised_phrases[p])\n",
        "  # Remove inverted commas, brackets and other punctuation marks, and multiple consecutive exclamation marks, question marks, commas, full stops, etc\n",
        "  text = re.sub(name,' @', re.sub(eclm,' ! ',re.sub(qstn,' ? ',re.sub(coma,' , ',re.sub(full,' . ',re.sub(rand,' ',text))))))\n",
        "  text = re.sub('\\/',' or ',text)\n",
        "  text = re.sub('\\[','',text)\n",
        "  text = re.sub('\\]','',text)\n",
        "  text = re.sub(nums,'',text)\n",
        "  text = re.sub(dash,' ', text)\n",
        "  text = text.replace(\"'\",'')\n",
        "  \n",
        "  # Return clean text and calculated emoticon score\n",
        "  return text, emoticon_score\n"
      ],
      "execution_count": 0,
      "outputs": []
    },
    {
      "cell_type": "markdown",
      "metadata": {
        "id": "N4DjPi2AHvq3",
        "colab_type": "text"
      },
      "source": [
        "### Sentiment Analysis\n",
        "The first thing that we would want to add for our dataset are the sentiment score (if is not neutral) in every tweet, the sentiment words if there is and the an emoticon score in case the user used an emoticon on the tweet.\n"
      ]
    },
    {
      "cell_type": "code",
      "metadata": {
        "id": "v5Ann1WEQPgp",
        "colab_type": "code",
        "colab": {}
      },
      "source": [
        "# Function to retrive sentiment score of a given word/bigram/phrase from sentiment dictionary\n",
        "def sentiment_score(phrase):\n",
        "  if phrase in pos_words:\n",
        "    return np.mean(list(positive_keys[positive_keys['Words']  == phrase]['Co_Word_score']))\n",
        "  elif phrase in neg_words:\n",
        "    return np.mean(list(negative_keys[negative_keys['Words']  == phrase]['Co_Word_score']))\n",
        "  elif phrase in pos_bigrm:\n",
        "    return np.mean(list(positive_keys[positive_keys['Bigrams']== phrase]['Co_Bigram_score']))\n",
        "  elif phrase in neg_bigrm: \n",
        "    return np.mean(list(negative_keys[negative_keys['Bigrams']== phrase]['Co_Bigram_score']))\n",
        "  else: \n",
        "    return 0\n",
        "\n",
        "# Function to combine scores of the same polarity\n",
        "def combine(score_list):\n",
        "    max_score = max(score_list)\n",
        "    return (max_score + ((sum(score_list) - max_score)/(math.pow(2, max_score))))"
      ],
      "execution_count": 0,
      "outputs": []
    },
    {
      "cell_type": "code",
      "metadata": {
        "id": "uDg3B5TY8t7N",
        "colab_type": "code",
        "colab": {}
      },
      "source": [
        "# Function to roll-up word/phrase leve scores to give overall text score\n",
        "def aggregate_scores(data):\n",
        "    sent_list = list(set(list(data['sent_no'])))\n",
        "    net_scores= [0]*len(sent_list)\n",
        "    # Iterate through every sentence in the text\n",
        "    for sent_no in sent_list:\n",
        "        phrase = data[data['sent_no'] == sent_no]\n",
        "        # Extract individual scores for the sentence in a list\n",
        "        score_list = list(phrase['word_score'])                                   \n",
        "        # Extract positive scores\n",
        "        pos = [s for s in score_list if s>0]\n",
        "        # Extract negative scores\n",
        "        neg = [s for s in score_list if s<0]\n",
        "        pos_score, neg_score = 0, 0\n",
        "        # Combine positive scores to get net positive score for the sentence\n",
        "        if len(pos) > 0:\n",
        "          pos_score = combine(pos)                                 \n",
        "        # Combine negative scores to get net negative score for the sentence\n",
        "        if len(neg) > 0:\n",
        "          neg_score = (-combine([-s for s in neg]))                  \n",
        "        # Add the above two to get overall sentence score\n",
        "        net_scores[sent_no-1] = pos_score + neg_score                               \n",
        "    # Take average of all sentence scores to get overall text score\n",
        "    overall_score = round(np.mean([s for s in net_scores if s!=0]), 2)             \n",
        "    if np.isnan(overall_score): \n",
        "      return 0\n",
        "    else:\n",
        "      return overall_score\n"
      ],
      "execution_count": 0,
      "outputs": []
    },
    {
      "cell_type": "code",
      "metadata": {
        "id": "YaIHeeldKlJN",
        "colab_type": "code",
        "colab": {}
      },
      "source": [
        "# Function to identify features, sentiemnt words and corresponding scores\n",
        "def idenify_features_and_describers(data):\n",
        "  # Iterate through every word in the text\n",
        "  for w in data.index:\n",
        "    word = data['word'][w]\n",
        "    if word in negation_words: \n",
        "      data['is_describer'][w] = 'REFER TO NEXT'\n",
        "\n",
        "    # Identifying sentiment words and scores\n",
        "    # 1. Word level\n",
        "    # Check if the word is in the list of positive words or negative words\n",
        "    if word in (pos_words + neg_words):  \n",
        "      # Retrive the sentiment score of the word\n",
        "      data['word_score'][w] = sentiment_score(word)             \n",
        "      # Add the word to the list of sentiment words\n",
        "      data['is_describer'][w] = word                              \n",
        "\n",
        "    # 2. Bigram level\n",
        "    if w > 0:\n",
        "      # create bigram from word and preceeding word\n",
        "      bigram = data['word'][w-1] +' '+ word\n",
        "      # Check if the bigram is in the list of positive bigrams or negative bigrams\n",
        "      if bigram in (pos_bigrm + neg_bigrm):\n",
        "        # Retrive the sentiment score of the bigram\n",
        "        data['word_score'][w] = sentiment_score(bigram)\n",
        "        data['word_score'][w-1] = 0\n",
        "        # Add the bigram to the list of sentiment words\n",
        "        data['is_describer'][w]  = bigram\n",
        "        data['is_describer'][w-1]= 'REFER TO NEXT'\n",
        "\n",
        "    # Identifying features\n",
        "    # Logic used: Word is a feature if\n",
        "    # * it is a noun\n",
        "    # * is not in the list of positive/negative words\n",
        "    # * is not a common english word like 'the','of' etc\n",
        "    # * has a more than 3 characters\n",
        "    if all([data['pos'][w] in ('NN','NNP','NNS','NNPS'), word not in pos_words + neg_words, word not in stopwords.words('english'), len(word) > 3]):\n",
        "      if w == 0:\n",
        "        data['is_entity'][w] = word\n",
        "      elif data['is_entity'][w-1] not in ['','REFER TO NEXT']:\n",
        "        data['is_entity'][w] = data['is_entity'][w-1]+' '+word\n",
        "        data['is_entity'][w-1] = 'REFER TO NEXT'\n",
        "      else:\n",
        "        data['is_entity'][w] = word\n",
        "  return data"
      ],
      "execution_count": 0,
      "outputs": []
    },
    {
      "cell_type": "code",
      "metadata": {
        "id": "CHQTG7cLBcd8",
        "colab_type": "code",
        "colab": {}
      },
      "source": [
        "# Function to break the text into sentences\n",
        "def identify_phrases(data):\n",
        "  # Iterate through every word in the text\n",
        "  for r in data.index:\n",
        "    if data['pos'][r] == '.':\n",
        "      # If word is a symbol like '.','?','!' then the succeeding text is treated as a new sentence\n",
        "      data['sent_no'][r+1:] = data['sent_no'][r]+1\n",
        "  return data"
      ],
      "execution_count": 0,
      "outputs": []
    },
    {
      "cell_type": "code",
      "metadata": {
        "id": "L5qCss4VNfND",
        "colab_type": "code",
        "colab": {}
      },
      "source": [
        "# Function to modify word level scores based on surounding words\n",
        "def apply_surr_words_effect(data):\n",
        "  # Iterate through every word in the text\n",
        "  for w in data.index:\n",
        "    word = data['word'][w]\n",
        "    # Add the previous 3 words to the current word to create a phrase, for phrase level analysis\n",
        "    phrase = ' '.join(data['word'][max(0,w-3):w+1])\n",
        "    # Define the number of preceeding words to be considered while checking effect of negation words (currently set to 3)\n",
        "    pre_words_consider_for_negation = 3\n",
        "    preceding_start = max(0,w-pre_words_consider_for_negation)\n",
        "    # Initialize a flag to check if the text is preceeded by a negation word\n",
        "    negated=0\n",
        "    # Initialize a flag to check if the text is preceeded by an intensity word\n",
        "    intense=0\n",
        "\n",
        "    # Applying exception rules\n",
        "    # Logic:    If text contains any of the exceptions (specified in the sentiment dictionary) then its score becomes the score of that exception phrase\n",
        "    # Example:  If text contains the word 'cheap' along with the word 'price', its sentiment score becomes positive instead of negative\n",
        "    if not any([symbol for symbol in ['.','?','!'] if symbol in phrase]):\n",
        "      for rule, score in exeption_rules:\n",
        "        if rule.match(phrase) and phrase == rule.match(phrase).group(0):\n",
        "          data['word_score'][w] = score\n",
        "          data['is_describer'][w] = rule.match(phrase).group(2)\n",
        "          for p_w in range((w-len(data['is_describer'][w].split())+1), w):\n",
        "            data['is_describer'][p_w] = 'REFER TO NEXT'\n",
        "          preceding_start = max(w+1-len(data['is_describer'][w].split())-pre_words_consider_for_negation,0)\n",
        "\n",
        "    if data['word_score'][w]!=0:\n",
        "      # Applying negation rules\n",
        "      # Logic:    If there is a word like not/never/dont in the preceeding 3 words (this value is defined above), the score is negated\n",
        "      # Example: 'not good' is negative\n",
        "      preceding_text = ' '+'  '.join(data['word'][preceding_start:w+1])+' '\n",
        "      if not any([n+' ' in data['is_describer'][w] for n in negation_words]):\n",
        "        for negator in negation_words:\n",
        "          negation_rule = convert_to_rule(' '+negator+' ',' '+word+' ')\n",
        "          if negation_rule.match(preceding_text) and preceding_text==negation_rule.match(preceding_text).group(0):\n",
        "            if list(set(data['word_score'][w-len(negation_rule.match(preceding_text).group(2).split())+1:w]))==[0]: \n",
        "              negated = 1\n",
        "        if data['word_score'][w]>0 and negated==0:\n",
        "          for negator in pos_negation_words:\n",
        "            negation_rule=convert_to_rule(' '+negator+' ',' '+word+' ')\n",
        "            if negation_rule.match(preceding_text) and preceding_text==negation_rule.match(preceding_text).group(0):\n",
        "              if list(set(data['word_score'][w-len(negation_rule.match(preceding_text).group(2).split())+1:w]))==[0]: \n",
        "                negated = 1\n",
        "\n",
        "      # Applying intensity rules\n",
        "      # Logic:    If there is a word like very/soo/highly in the preceeding 3 words (this value is defined above), the score is amplified\n",
        "      # Example:  'very good' is more positive than 'good'\n",
        "      if not any([n+' ' in data['is_describer'][w] for n in intensity_words]):\n",
        "        for intensifier in intensity_words:\n",
        "          intensity_rule=convert_to_rule(' '+intensifier+' ',' '+word+' ')\n",
        "          if intensity_rule.match(preceding_text) and preceding_text==intensity_rule.match(preceding_text).group(0):\n",
        "            if list(set(data['word_score'][w-len(intensity_rule.match(preceding_text).group(2).split())+1:w])) == [0]:\n",
        "              intense=1\n",
        "      if w > 0 and data['word'][w-1] in ['pretty','quite'] and 'very' not in data['is_describer'][w]:\n",
        "        data['word_score'][w-1] = 0\n",
        "        data['is_describer'][w-1] = 'REFER TO NEXT'\n",
        "        intense = 1\n",
        "\n",
        "      if negated == 1 and intense == 1:\n",
        "        data['word_score'][w] = -data['word_score'][w] + (int(data['word_score'][w]>0) - int(data['word_score'][w]<0))\n",
        "        data['is_describer'][w] = 'not very '+ data['is_describer'][w]\n",
        "      elif negated == 1 and intense == 0:\n",
        "        data['word_score'][w] = -data['word_score'][w]\n",
        "        data['is_describer'][w] = 'not '+data['is_describer'][w]\n",
        "      elif negated==0 and intense==1:\n",
        "        data['word_score'][w] = data['word_score'][w]+(int(data['word_score'][w]>0)-int(data['word_score'][w]<0))\n",
        "        data['is_describer'][w] = 'very '+data['is_describer'][w]\n",
        "      #  Check if word is preceeded by an adverb (defined as a word ending in 'ly') and if the sentiment of the word and the adverb are opposite, ignore the sentiment of the adverb\n",
        "      if w-1 in data.index:\n",
        "        if  data['word'][w-1][-2:] == 'ly' and data['word_score'][w-1]*data['word_score'][w] < 0:\n",
        "          data['word_score'][w-1]  = 0\n",
        "        if data['word'][w-1] in ['nothing']:\n",
        "          if data['word_score'][w] < 0:\n",
        "            data['word_score'][w]= 1\n",
        "          if data['word_score'][w] > 0:\n",
        "            data['word_score'][w]=-1\n",
        "          data['is_describer'][w]='not '+data['is_describer'][w]\n",
        "\n",
        "    # Handling effect of 'yet' and'but'\n",
        "    # Logic:   If there are 2 sentiment words with the word yet/but between them, sentiment of the former is not important\n",
        "    # Example: 'tasty but ugly' is negative, 'ugly yet tasty' is positive\n",
        "    if word in ['yet','but']:\n",
        "      #  Check if any of the 3 words after the word but/yet have a non-zero sentiment, and if present, extract its score\n",
        "      suc_score=0\n",
        "      if w + 1 in data.index and data['word_score'][w+1] != 0:\n",
        "        suc_score=data['word_score'][w+1]\n",
        "      elif w + 2 in data.index and data['word_score'][w+2] !=0:\n",
        "        suc_score=data['word_score'][w+2]\n",
        "      elif w + 3 in data.index and data['word_score'][w+3] != 0:\n",
        "        suc_score=data['word_score'][w+3]\n",
        "      # Check if any of the 3 words before the worc but/yet has a sentiment opposite to that of the above found word, and if present, make its score zero\n",
        "      if suc_score!=0:\n",
        "        if   w-1 in data.index and data['word_score'][w-1]*suc_score<0:\n",
        "          data['word_score'][w-1]=0\n",
        "        elif w-2 in data.index and data['word_score'][w-2]*suc_score<0:\n",
        "          data['word_score'][w-2]=0\n",
        "        elif w-3 in data.index and data['word_score'][w-3]*suc_score<0:\n",
        "          data['word_score'][w-3]=0\n",
        "\n",
        "    return data"
      ],
      "execution_count": 0,
      "outputs": []
    },
    {
      "cell_type": "code",
      "metadata": {
        "id": "A_8HzneaNjcD",
        "colab_type": "code",
        "colab": {}
      },
      "source": [
        "# Function to calculate the sentiment score of the text\n",
        "def text_sentiments(survey):\n",
        "  # Remove unnessecary punctuations, numbers, website links etc to get clean simple text\n",
        "  text, emoticon_score = clean(survey)\n",
        "  # Extract words fromt the text\n",
        "  tokens = nltk.word_tokenize(text)\n",
        "  # Create a table to store metadata about all the words like their part of speech, sentiment score etc\n",
        "  data = pd.DataFrame({'word':tokens,'pos':[tag for (word,tag) in nltk.pos_tag(tokens)]}) \n",
        "  data['word_score'], data['is_entity'], data['is_describer'], data['sent_no'] = 0, '', '', 1\n",
        "  # Score the words/phrases\n",
        "  data = apply_surr_words_effect(identify_phrases(idenify_features_and_describers(data))) \n",
        "  # Combine above scores to get overall text score\n",
        "  overall_score = aggregate_scores(data)\n",
        "  # Extract the words/phrases with non-zero sentiment scores\n",
        "  senti_word_data=data[data['word_score']!=0]\n",
        "  # Combine the above words/phrases into a single string\n",
        "  sentiment_words=','.join([w for w in list(set(list(senti_word_data['is_describer']))) if w not in ['REFER TO NEXT','']])\n",
        "  return overall_score, sentiment_words, emoticon_score"
      ],
      "execution_count": 0,
      "outputs": []
    },
    {
      "cell_type": "markdown",
      "metadata": {
        "id": "NCR9_hqhMych",
        "colab_type": "text"
      },
      "source": [
        "#### Load sentiment dictionary\n",
        "\n",
        "Load sentiment dictionary from General_Sentiment_Lexicon_v5.xlsx and create a list of sentiment related words, bigrams, emoticons, symbols and other phrases."
      ]
    },
    {
      "cell_type": "code",
      "metadata": {
        "id": "sshVZwkoNW8g",
        "colab_type": "code",
        "colab": {}
      },
      "source": [
        "# Define constants:\n",
        "\n",
        "# Load the sentiement dictionary from excel file\n",
        "sentiment_dictionary = 'General_Sentiment_Lexicon_v5.xlsx'\n",
        "positive_keys        = pd.read_excel(sentiment_dictionary,'Positive Phrases')\n",
        "negative_keys        = pd.read_excel(sentiment_dictionary,'Negative Phrases')\n",
        "amplifier_keys       = pd.read_excel(sentiment_dictionary,'Negators and Amplifiers')\n",
        "standard_keys        = pd.read_excel(sentiment_dictionary,'Standardization Rules')\n",
        "exeption_keys        = pd.read_excel(sentiment_dictionary,'Exeption Rules')\n",
        "\n",
        "# Create lists for sentiment related words,bigrams,emoticons,symbols and other phrases\n",
        "pos_emoticons        = [str(e) for e in positive_keys['Emoticons']   if not str(e)=='nan']\n",
        "neg_emoticons        = [str(e) for e in negative_keys['Emoticons']   if not str(e)=='nan']\n",
        "pos_symbols          = [str(s) for s in positive_keys['Symbols']     if not str(s)=='nan']\n",
        "neg_symbols          = [str(s) for s in negative_keys['Symbols']     if not str(s)=='nan']\n",
        "pos_words            = [str(w) for w in positive_keys['Words']       if not str(w)=='nan']\n",
        "neg_words            = [str(w) for w in negative_keys['Words']       if not str(w)=='nan']\n",
        "pos_bigrm            = [str(w) for w in positive_keys['Bigrams']     if not str(w)=='nan']\n",
        "neg_bigrm            = [str(w) for w in negative_keys['Bigrams']     if not str(w)=='nan']\n",
        "intensity_words      = [str(w) for w in amplifier_keys['Amplifiers'] if not str(w)=='nan']\n",
        "negation_words       = [str(w) for w in amplifier_keys['Negators']   if not str(w)=='nan']\n",
        "pos_negation_words   = [str(w) for w in amplifier_keys['Positive only negators']   if not str(w)=='nan']\n",
        "normalised_phrases   = [str(w).replace('_',' ').lower() for w in standard_keys['Normalised_phrase']]\n",
        "generic_phrases      = [str(w).replace('_',' ').lower() for w in standard_keys['Phrase']]\n",
        "StopWords            = list(stopwords.words('english'))"
      ],
      "execution_count": 0,
      "outputs": []
    },
    {
      "cell_type": "code",
      "metadata": {
        "id": "Vm5MJdOfG59l",
        "colab_type": "code",
        "colab": {}
      },
      "source": [
        "# Map the exception rules to their corresponding sentiment sores\n",
        "exeption_rules=[]\n",
        "for k in exeption_keys.index:\n",
        "  if str(exeption_keys['Preceeding'][k])!='nan':\n",
        "    for pre in exeption_keys['Preceeding'][k].split(','):\n",
        "      exeption_rules.append((convert_to_rule(pre,exeption_keys['Word'][k]),exeption_keys['Sentiment'][k]))\n",
        "  if str(exeption_keys['Suceeding'][k])!='nan':\n",
        "    for suc in exeption_keys['Suceeding'][k].split(',') :\n",
        "      exeption_rules.append((convert_to_rule(exeption_keys['Word'][k],suc),exeption_keys['Sentiment'][k]))\n",
        "  if str(exeption_keys['Around'][k])!='nan':\n",
        "    for sur in exeption_keys['Around'][k].split(','):\n",
        "      exeption_rules.append((convert_to_rule(sur,exeption_keys['Word'][k]),exeption_keys['Sentiment'][k]))\n",
        "      exeption_rules.append((convert_to_rule(exeption_keys['Word'][k],sur),exeption_keys['Sentiment'][k]))"
      ],
      "execution_count": 0,
      "outputs": []
    },
    {
      "cell_type": "code",
      "metadata": {
        "id": "ZpBH25hVSkFv",
        "colab_type": "code",
        "colab": {}
      },
      "source": [
        "# Define regur expressions for punctuations and symbols\n",
        "rand    = re.compile('[~`|#$)%^}&{(*<>\"_+:;]')\n",
        "full    = re.compile('[.]+')\n",
        "coma    = re.compile('[,]+')\n",
        "qstn    = re.compile('[?]+')\n",
        "eclm    = re.compile('[!]+')\n",
        "name    = re.compile('[@]+')\n",
        "dash    = re.compile('[-]+')\n",
        "nums    = re.compile('\\S*[\\d]\\S*')\n",
        "periods = re.compile('[!]+|[.]+|[?]+')"
      ],
      "execution_count": 0,
      "outputs": []
    },
    {
      "cell_type": "markdown",
      "metadata": {
        "id": "oUoGy9ztIUBS",
        "colab_type": "text"
      },
      "source": [
        "#### Add Sentiment Analysis Features"
      ]
    },
    {
      "cell_type": "code",
      "metadata": {
        "id": "jXzUV9vQJg3q",
        "colab_type": "code",
        "colab": {}
      },
      "source": [
        "# Lets create a copy of both datasets just to have a variable were the data is not being manipulated\n",
        "train_data_copy = train_data.copy()\n",
        "test_data_copy = test_data.copy()"
      ],
      "execution_count": 0,
      "outputs": []
    },
    {
      "cell_type": "markdown",
      "metadata": {
        "id": "61kaTCPKDiEy",
        "colab_type": "text"
      },
      "source": [
        "We add this three features to the training set and the testing set.\n"
      ]
    },
    {
      "cell_type": "code",
      "metadata": {
        "id": "ZbP_QVKyQJCo",
        "colab_type": "code",
        "colab": {
          "base_uri": "https://localhost:8080/",
          "height": 204
        },
        "outputId": "acb23d7c-fac0-40c8-84f5-4cff56de2d45"
      },
      "source": [
        "train_data_copy['Text sentiment'] = 0.0\n",
        "train_data_copy['Sentiment words'] = ''\n",
        "train_data_copy['Emoticon sentiment'] = 0\n",
        "\n",
        "for i in train_data_copy.index:\n",
        "  train_data_copy['Text sentiment'][i], train_data_copy['Sentiment words'][i], train_data_copy['Emoticon sentiment'][i] = text_sentiments(train_data_copy['text'][i])\n",
        "train_data_copy.head()"
      ],
      "execution_count": 19,
      "outputs": [
        {
          "output_type": "execute_result",
          "data": {
            "text/html": [
              "<div>\n",
              "<style scoped>\n",
              "    .dataframe tbody tr th:only-of-type {\n",
              "        vertical-align: middle;\n",
              "    }\n",
              "\n",
              "    .dataframe tbody tr th {\n",
              "        vertical-align: top;\n",
              "    }\n",
              "\n",
              "    .dataframe thead th {\n",
              "        text-align: right;\n",
              "    }\n",
              "</style>\n",
              "<table border=\"1\" class=\"dataframe\">\n",
              "  <thead>\n",
              "    <tr style=\"text-align: right;\">\n",
              "      <th></th>\n",
              "      <th>id</th>\n",
              "      <th>keyword</th>\n",
              "      <th>location</th>\n",
              "      <th>text</th>\n",
              "      <th>target</th>\n",
              "      <th>Text sentiment</th>\n",
              "      <th>Sentiment words</th>\n",
              "      <th>Emoticon sentiment</th>\n",
              "    </tr>\n",
              "  </thead>\n",
              "  <tbody>\n",
              "    <tr>\n",
              "      <th>0</th>\n",
              "      <td>1</td>\n",
              "      <td>NaN</td>\n",
              "      <td>NaN</td>\n",
              "      <td>Our Deeds are the Reason of this #earthquake M...</td>\n",
              "      <td>1</td>\n",
              "      <td>0.0</td>\n",
              "      <td></td>\n",
              "      <td>0</td>\n",
              "    </tr>\n",
              "    <tr>\n",
              "      <th>1</th>\n",
              "      <td>4</td>\n",
              "      <td>NaN</td>\n",
              "      <td>NaN</td>\n",
              "      <td>Forest fire near La Ronge Sask. Canada</td>\n",
              "      <td>1</td>\n",
              "      <td>0.0</td>\n",
              "      <td></td>\n",
              "      <td>0</td>\n",
              "    </tr>\n",
              "    <tr>\n",
              "      <th>2</th>\n",
              "      <td>5</td>\n",
              "      <td>NaN</td>\n",
              "      <td>NaN</td>\n",
              "      <td>All residents asked to 'shelter in place' are ...</td>\n",
              "      <td>1</td>\n",
              "      <td>0.0</td>\n",
              "      <td></td>\n",
              "      <td>0</td>\n",
              "    </tr>\n",
              "    <tr>\n",
              "      <th>3</th>\n",
              "      <td>6</td>\n",
              "      <td>NaN</td>\n",
              "      <td>NaN</td>\n",
              "      <td>13,000 people receive #wildfires evacuation or...</td>\n",
              "      <td>1</td>\n",
              "      <td>0.0</td>\n",
              "      <td></td>\n",
              "      <td>0</td>\n",
              "    </tr>\n",
              "    <tr>\n",
              "      <th>4</th>\n",
              "      <td>7</td>\n",
              "      <td>NaN</td>\n",
              "      <td>NaN</td>\n",
              "      <td>Just got sent this photo from Ruby #Alaska as ...</td>\n",
              "      <td>1</td>\n",
              "      <td>-2.0</td>\n",
              "      <td>smoke</td>\n",
              "      <td>0</td>\n",
              "    </tr>\n",
              "  </tbody>\n",
              "</table>\n",
              "</div>"
            ],
            "text/plain": [
              "   id keyword location  ... Text sentiment  Sentiment words  Emoticon sentiment\n",
              "0   1     NaN      NaN  ...            0.0                                    0\n",
              "1   4     NaN      NaN  ...            0.0                                    0\n",
              "2   5     NaN      NaN  ...            0.0                                    0\n",
              "3   6     NaN      NaN  ...            0.0                                    0\n",
              "4   7     NaN      NaN  ...           -2.0            smoke                   0\n",
              "\n",
              "[5 rows x 8 columns]"
            ]
          },
          "metadata": {
            "tags": []
          },
          "execution_count": 19
        }
      ]
    },
    {
      "cell_type": "code",
      "metadata": {
        "id": "RhPC9_FTSw-B",
        "colab_type": "code",
        "colab": {
          "base_uri": "https://localhost:8080/",
          "height": 204
        },
        "outputId": "05af35d4-54e8-4458-d6c9-5c96bfecf37d"
      },
      "source": [
        "test_data_copy['Text sentiment'] = 0.0\n",
        "test_data_copy['Sentiment words'] = ''\n",
        "test_data_copy['Emoticon sentiment'] = 0\n",
        "\n",
        "for i in test_data_copy.index:\n",
        "  test_data_copy['Text sentiment'][i], test_data_copy['Sentiment words'][i], test_data_copy['Emoticon sentiment'][i] = text_sentiments(test_data_copy['text'][i])\n",
        "test_data_copy.head()"
      ],
      "execution_count": 20,
      "outputs": [
        {
          "output_type": "execute_result",
          "data": {
            "text/html": [
              "<div>\n",
              "<style scoped>\n",
              "    .dataframe tbody tr th:only-of-type {\n",
              "        vertical-align: middle;\n",
              "    }\n",
              "\n",
              "    .dataframe tbody tr th {\n",
              "        vertical-align: top;\n",
              "    }\n",
              "\n",
              "    .dataframe thead th {\n",
              "        text-align: right;\n",
              "    }\n",
              "</style>\n",
              "<table border=\"1\" class=\"dataframe\">\n",
              "  <thead>\n",
              "    <tr style=\"text-align: right;\">\n",
              "      <th></th>\n",
              "      <th>id</th>\n",
              "      <th>keyword</th>\n",
              "      <th>location</th>\n",
              "      <th>text</th>\n",
              "      <th>Text sentiment</th>\n",
              "      <th>Sentiment words</th>\n",
              "      <th>Emoticon sentiment</th>\n",
              "    </tr>\n",
              "  </thead>\n",
              "  <tbody>\n",
              "    <tr>\n",
              "      <th>0</th>\n",
              "      <td>0</td>\n",
              "      <td>NaN</td>\n",
              "      <td>NaN</td>\n",
              "      <td>Just happened a terrible car crash</td>\n",
              "      <td>-3.25</td>\n",
              "      <td>crash,terrible</td>\n",
              "      <td>0</td>\n",
              "    </tr>\n",
              "    <tr>\n",
              "      <th>1</th>\n",
              "      <td>2</td>\n",
              "      <td>NaN</td>\n",
              "      <td>NaN</td>\n",
              "      <td>Heard about #earthquake is different cities, s...</td>\n",
              "      <td>2.00</td>\n",
              "      <td>safe</td>\n",
              "      <td>0</td>\n",
              "    </tr>\n",
              "    <tr>\n",
              "      <th>2</th>\n",
              "      <td>3</td>\n",
              "      <td>NaN</td>\n",
              "      <td>NaN</td>\n",
              "      <td>there is a forest fire at spot pond, geese are...</td>\n",
              "      <td>-1.00</td>\n",
              "      <td>fleeing</td>\n",
              "      <td>0</td>\n",
              "    </tr>\n",
              "    <tr>\n",
              "      <th>3</th>\n",
              "      <td>9</td>\n",
              "      <td>NaN</td>\n",
              "      <td>NaN</td>\n",
              "      <td>Apocalypse lighting. #Spokane #wildfires</td>\n",
              "      <td>0.00</td>\n",
              "      <td></td>\n",
              "      <td>0</td>\n",
              "    </tr>\n",
              "    <tr>\n",
              "      <th>4</th>\n",
              "      <td>11</td>\n",
              "      <td>NaN</td>\n",
              "      <td>NaN</td>\n",
              "      <td>Typhoon Soudelor kills 28 in China and Taiwan</td>\n",
              "      <td>-2.00</td>\n",
              "      <td>kills</td>\n",
              "      <td>0</td>\n",
              "    </tr>\n",
              "  </tbody>\n",
              "</table>\n",
              "</div>"
            ],
            "text/plain": [
              "   id keyword location  ... Text sentiment  Sentiment words Emoticon sentiment\n",
              "0   0     NaN      NaN  ...          -3.25   crash,terrible                  0\n",
              "1   2     NaN      NaN  ...           2.00             safe                  0\n",
              "2   3     NaN      NaN  ...          -1.00          fleeing                  0\n",
              "3   9     NaN      NaN  ...           0.00                                   0\n",
              "4  11     NaN      NaN  ...          -2.00            kills                  0\n",
              "\n",
              "[5 rows x 7 columns]"
            ]
          },
          "metadata": {
            "tags": []
          },
          "execution_count": 20
        }
      ]
    },
    {
      "cell_type": "markdown",
      "metadata": {
        "id": "uCjOxJv2OP9y",
        "colab_type": "text"
      },
      "source": [
        "### Exploratory Data Analysis"
      ]
    },
    {
      "cell_type": "code",
      "metadata": {
        "id": "9nOnnqazOSyl",
        "colab_type": "code",
        "colab": {
          "base_uri": "https://localhost:8080/",
          "height": 282
        },
        "outputId": "a08b781a-306f-49f8-faaa-ea2bba0f6647"
      },
      "source": [
        "# target balance.\n",
        "train_data_copy['target'].astype(int).plot.hist()"
      ],
      "execution_count": 21,
      "outputs": [
        {
          "output_type": "execute_result",
          "data": {
            "text/plain": [
              "<matplotlib.axes._subplots.AxesSubplot at 0x7fd31d16f710>"
            ]
          },
          "metadata": {
            "tags": []
          },
          "execution_count": 21
        },
        {
          "output_type": "display_data",
          "data": {
            "image/png": "[encoded data removed]",
            "text/plain": [
              "<Figure size 432x288 with 1 Axes>"
            ]
          },
          "metadata": {
            "tags": []
          }
        }
      ]
    },
    {
      "cell_type": "markdown",
      "metadata": {
        "id": "c51Wid66Cj2i",
        "colab_type": "text"
      },
      "source": [
        "#### Encoding Categorical Variables\n",
        "Before we go any further, we need to deal with pesky categorical variables like the ones in the 'Sentiment Words' column. A machine learning model unfortunately cannot deal with categorical variables (except for some models such as LightGBM). Therefore, we have to find a way to encode (represent) these variables as numbers before handing them off to the model. There are two main ways to carry out this process:\n",
        "\n",
        "**Label encoding:** assign each unique category in a categorical variable with an integer. No new columns are created.\n",
        "\n",
        "Problem: The value assigned to each of the categories is random and does not reflect any inherent aspect of the category. In the example above, programmer recieves a 4 and data scientist a 1, but if we did the same process again, the labels could be reversed or completely different. The actual assignment of the integers is arbitrary. Therefore, when we perform label encoding, the model might use the relative value of the feature (for example programmer = 4 and data scientist = 1) to assign weights which is not what we want.\n",
        "\n",
        "**One-hot encoding:** create a new column for each unique category in a categorical variable. Each observation recieves a 1 in the column for its corresponding category and a 0 in all other new columns.\n",
        "\n",
        "Problem: The number of features can explode with categorical variables with many categories. To deal with this, we can perform one-hot encoding followed by PCA or other dimensionality reduction methods to reduce the number of dimensions.\n",
        "\n",
        "For this case in particular, we would use One-Hot encoding."
      ]
    },
    {
      "cell_type": "code",
      "metadata": {
        "id": "t6x0NO3dCrSG",
        "colab_type": "code",
        "colab": {
          "base_uri": "https://localhost:8080/",
          "height": 221
        },
        "outputId": "6877b999-e45c-4588-986e-1446bdd1e712"
      },
      "source": [
        "print('Number of each type of column')\n",
        "print(train_data_copy.dtypes.value_counts())\n",
        "print('\\nNumber of unique classes in each object column')\n",
        "print(train_data_copy.select_dtypes('object').apply(pd.Series.nunique, axis = 0))"
      ],
      "execution_count": 22,
      "outputs": [
        {
          "output_type": "stream",
          "text": [
            "Number of each type of column\n",
            "object     4\n",
            "int64      3\n",
            "float64    1\n",
            "dtype: int64\n",
            "\n",
            "Number of unique classes in each object column\n",
            "keyword             221\n",
            "location           3341\n",
            "text               7503\n",
            "Sentiment words    2985\n",
            "dtype: int64\n"
          ],
          "name": "stdout"
        }
      ]
    },
    {
      "cell_type": "code",
      "metadata": {
        "id": "8vqitZKZEiqA",
        "colab_type": "code",
        "colab": {}
      },
      "source": [
        "#@title Function that separates the sentiment words into columns\n",
        "def separate_list_2_col(df, column_name, string_column=True, separator=',', remove_column=False):\n",
        "  if string_column:\n",
        "    df[column_name] = df[column_name].apply(lambda x : x.split(separator))\n",
        "  df[column_name].apply(lambda x : x.sort())\n",
        "  max_length = df[column_name].map(lambda x: len(x)).max()\n",
        "  \n",
        "  column_names = []\n",
        "  for i in range(max_length):\n",
        "    new_column_name = column_name + '_' + str(i)\n",
        "    column_names.append(new_column_name)\n",
        "    df[new_column_name] = ''\n",
        "  \n",
        "  for i in df[column_name].index:\n",
        "    for index, text in enumerate(df.iloc[i][column_name]):\n",
        "      df.at[i, column_names[index]] = text\n",
        "  \n",
        "  if remove_column:\n",
        "    df = df.drop(labels=column_name, axis=1)\n",
        "  \n",
        "  return df"
      ],
      "execution_count": 0,
      "outputs": []
    },
    {
      "cell_type": "code",
      "metadata": {
        "id": "yLi05OD4iLtd",
        "colab_type": "code",
        "colab": {}
      },
      "source": [
        "train_data_copy = separate_list_2_col(train_data_copy, 'Sentiment words', remove_column=True)"
      ],
      "execution_count": 0,
      "outputs": []
    },
    {
      "cell_type": "code",
      "metadata": {
        "id": "R3sM1R63t-I1",
        "colab_type": "code",
        "colab": {}
      },
      "source": [
        "test_data_copy = separate_list_2_col(test_data_copy, 'Sentiment words', remove_column=True)"
      ],
      "execution_count": 0,
      "outputs": []
    },
    {
      "cell_type": "markdown",
      "metadata": {
        "id": "xWAQIcf8w08s",
        "colab_type": "text"
      },
      "source": [
        "#### Normalizing Location\n",
        "We know that people can change the location in tweet, they can leave it in blank and even put a string that it's not a location at all.\n",
        "\n",
        "Let's try to normalize this data"
      ]
    },
    {
      "cell_type": "code",
      "metadata": {
        "id": "Pee9_jQszQ0V",
        "colab_type": "code",
        "colab": {}
      },
      "source": [
        "nlp = spacy.load('en')\n",
        "def what_location(this_location):\n",
        "  this_location, _ = clean(this_location)\n",
        "  locations_replace = []\n",
        "  try:\n",
        "    for X in nlp(this_location).ents:\n",
        "      if X.label_ == 'GPE':\n",
        "        locations_replace.append(X.text)\n",
        "  except:\n",
        "    pass\n",
        "  return locations_replace\n",
        "\n",
        "def is_it_a_real_location(df, column_name, remove_column=False):\n",
        "  # progress_apply\n",
        "  df[column_name] = df[column_name].apply(lambda x : what_location(x))\n",
        "  df = separate_list_2_col(df, column_name, string_column=False, remove_column=remove_column)\n",
        "  return df\n",
        "  "
      ],
      "execution_count": 0,
      "outputs": []
    },
    {
      "cell_type": "markdown",
      "metadata": {
        "id": "0jcYU9IkuYPB",
        "colab_type": "text"
      },
      "source": [
        "Apply this change into the train and testing datasets."
      ]
    },
    {
      "cell_type": "code",
      "metadata": {
        "id": "X4TgnLq0__3c",
        "colab_type": "code",
        "colab": {
          "base_uri": "https://localhost:8080/",
          "height": 306
        },
        "outputId": "daf74947-e4dc-4db4-eb0f-d48a89651395"
      },
      "source": [
        "train_data_copy = is_it_a_real_location(train_data_copy, column_name='location', remove_column=True)\n",
        "train_data_copy.head()"
      ],
      "execution_count": 27,
      "outputs": [
        {
          "output_type": "execute_result",
          "data": {
            "text/html": [
              "<div>\n",
              "<style scoped>\n",
              "    .dataframe tbody tr th:only-of-type {\n",
              "        vertical-align: middle;\n",
              "    }\n",
              "\n",
              "    .dataframe tbody tr th {\n",
              "        vertical-align: top;\n",
              "    }\n",
              "\n",
              "    .dataframe thead th {\n",
              "        text-align: right;\n",
              "    }\n",
              "</style>\n",
              "<table border=\"1\" class=\"dataframe\">\n",
              "  <thead>\n",
              "    <tr style=\"text-align: right;\">\n",
              "      <th></th>\n",
              "      <th>id</th>\n",
              "      <th>keyword</th>\n",
              "      <th>text</th>\n",
              "      <th>target</th>\n",
              "      <th>Text sentiment</th>\n",
              "      <th>Emoticon sentiment</th>\n",
              "      <th>Sentiment words_0</th>\n",
              "      <th>Sentiment words_1</th>\n",
              "      <th>Sentiment words_2</th>\n",
              "      <th>Sentiment words_3</th>\n",
              "      <th>Sentiment words_4</th>\n",
              "      <th>Sentiment words_5</th>\n",
              "      <th>Sentiment words_6</th>\n",
              "      <th>Sentiment words_7</th>\n",
              "      <th>Sentiment words_8</th>\n",
              "      <th>location_0</th>\n",
              "      <th>location_1</th>\n",
              "      <th>location_2</th>\n",
              "      <th>location_3</th>\n",
              "    </tr>\n",
              "  </thead>\n",
              "  <tbody>\n",
              "    <tr>\n",
              "      <th>0</th>\n",
              "      <td>1</td>\n",
              "      <td>NaN</td>\n",
              "      <td>Our Deeds are the Reason of this #earthquake M...</td>\n",
              "      <td>1</td>\n",
              "      <td>0.0</td>\n",
              "      <td>0</td>\n",
              "      <td></td>\n",
              "      <td></td>\n",
              "      <td></td>\n",
              "      <td></td>\n",
              "      <td></td>\n",
              "      <td></td>\n",
              "      <td></td>\n",
              "      <td></td>\n",
              "      <td></td>\n",
              "      <td></td>\n",
              "      <td></td>\n",
              "      <td></td>\n",
              "      <td></td>\n",
              "    </tr>\n",
              "    <tr>\n",
              "      <th>1</th>\n",
              "      <td>4</td>\n",
              "      <td>NaN</td>\n",
              "      <td>Forest fire near La Ronge Sask. Canada</td>\n",
              "      <td>1</td>\n",
              "      <td>0.0</td>\n",
              "      <td>0</td>\n",
              "      <td></td>\n",
              "      <td></td>\n",
              "      <td></td>\n",
              "      <td></td>\n",
              "      <td></td>\n",
              "      <td></td>\n",
              "      <td></td>\n",
              "      <td></td>\n",
              "      <td></td>\n",
              "      <td></td>\n",
              "      <td></td>\n",
              "      <td></td>\n",
              "      <td></td>\n",
              "    </tr>\n",
              "    <tr>\n",
              "      <th>2</th>\n",
              "      <td>5</td>\n",
              "      <td>NaN</td>\n",
              "      <td>All residents asked to 'shelter in place' are ...</td>\n",
              "      <td>1</td>\n",
              "      <td>0.0</td>\n",
              "      <td>0</td>\n",
              "      <td></td>\n",
              "      <td></td>\n",
              "      <td></td>\n",
              "      <td></td>\n",
              "      <td></td>\n",
              "      <td></td>\n",
              "      <td></td>\n",
              "      <td></td>\n",
              "      <td></td>\n",
              "      <td></td>\n",
              "      <td></td>\n",
              "      <td></td>\n",
              "      <td></td>\n",
              "    </tr>\n",
              "    <tr>\n",
              "      <th>3</th>\n",
              "      <td>6</td>\n",
              "      <td>NaN</td>\n",
              "      <td>13,000 people receive #wildfires evacuation or...</td>\n",
              "      <td>1</td>\n",
              "      <td>0.0</td>\n",
              "      <td>0</td>\n",
              "      <td></td>\n",
              "      <td></td>\n",
              "      <td></td>\n",
              "      <td></td>\n",
              "      <td></td>\n",
              "      <td></td>\n",
              "      <td></td>\n",
              "      <td></td>\n",
              "      <td></td>\n",
              "      <td></td>\n",
              "      <td></td>\n",
              "      <td></td>\n",
              "      <td></td>\n",
              "    </tr>\n",
              "    <tr>\n",
              "      <th>4</th>\n",
              "      <td>7</td>\n",
              "      <td>NaN</td>\n",
              "      <td>Just got sent this photo from Ruby #Alaska as ...</td>\n",
              "      <td>1</td>\n",
              "      <td>-2.0</td>\n",
              "      <td>0</td>\n",
              "      <td>smoke</td>\n",
              "      <td></td>\n",
              "      <td></td>\n",
              "      <td></td>\n",
              "      <td></td>\n",
              "      <td></td>\n",
              "      <td></td>\n",
              "      <td></td>\n",
              "      <td></td>\n",
              "      <td></td>\n",
              "      <td></td>\n",
              "      <td></td>\n",
              "      <td></td>\n",
              "    </tr>\n",
              "  </tbody>\n",
              "</table>\n",
              "</div>"
            ],
            "text/plain": [
              "   id keyword  ... location_2  location_3\n",
              "0   1     NaN  ...                       \n",
              "1   4     NaN  ...                       \n",
              "2   5     NaN  ...                       \n",
              "3   6     NaN  ...                       \n",
              "4   7     NaN  ...                       \n",
              "\n",
              "[5 rows x 19 columns]"
            ]
          },
          "metadata": {
            "tags": []
          },
          "execution_count": 27
        }
      ]
    },
    {
      "cell_type": "code",
      "metadata": {
        "id": "oTqA0Eb-qpX7",
        "colab_type": "code",
        "colab": {
          "base_uri": "https://localhost:8080/",
          "height": 289
        },
        "outputId": "2b108e1b-43eb-4140-d141-966cda9f98a9"
      },
      "source": [
        "test_data_copy = is_it_a_real_location(test_data_copy, column_name='location', remove_column=True)\n",
        "test_data_copy.head()"
      ],
      "execution_count": 28,
      "outputs": [
        {
          "output_type": "execute_result",
          "data": {
            "text/html": [
              "<div>\n",
              "<style scoped>\n",
              "    .dataframe tbody tr th:only-of-type {\n",
              "        vertical-align: middle;\n",
              "    }\n",
              "\n",
              "    .dataframe tbody tr th {\n",
              "        vertical-align: top;\n",
              "    }\n",
              "\n",
              "    .dataframe thead th {\n",
              "        text-align: right;\n",
              "    }\n",
              "</style>\n",
              "<table border=\"1\" class=\"dataframe\">\n",
              "  <thead>\n",
              "    <tr style=\"text-align: right;\">\n",
              "      <th></th>\n",
              "      <th>id</th>\n",
              "      <th>keyword</th>\n",
              "      <th>text</th>\n",
              "      <th>Text sentiment</th>\n",
              "      <th>Emoticon sentiment</th>\n",
              "      <th>Sentiment words_0</th>\n",
              "      <th>Sentiment words_1</th>\n",
              "      <th>Sentiment words_2</th>\n",
              "      <th>Sentiment words_3</th>\n",
              "      <th>Sentiment words_4</th>\n",
              "      <th>Sentiment words_5</th>\n",
              "      <th>Sentiment words_6</th>\n",
              "      <th>location_0</th>\n",
              "      <th>location_1</th>\n",
              "      <th>location_2</th>\n",
              "    </tr>\n",
              "  </thead>\n",
              "  <tbody>\n",
              "    <tr>\n",
              "      <th>0</th>\n",
              "      <td>0</td>\n",
              "      <td>NaN</td>\n",
              "      <td>Just happened a terrible car crash</td>\n",
              "      <td>-3.25</td>\n",
              "      <td>0</td>\n",
              "      <td>crash</td>\n",
              "      <td>terrible</td>\n",
              "      <td></td>\n",
              "      <td></td>\n",
              "      <td></td>\n",
              "      <td></td>\n",
              "      <td></td>\n",
              "      <td></td>\n",
              "      <td></td>\n",
              "      <td></td>\n",
              "    </tr>\n",
              "    <tr>\n",
              "      <th>1</th>\n",
              "      <td>2</td>\n",
              "      <td>NaN</td>\n",
              "      <td>Heard about #earthquake is different cities, s...</td>\n",
              "      <td>2.00</td>\n",
              "      <td>0</td>\n",
              "      <td>safe</td>\n",
              "      <td></td>\n",
              "      <td></td>\n",
              "      <td></td>\n",
              "      <td></td>\n",
              "      <td></td>\n",
              "      <td></td>\n",
              "      <td></td>\n",
              "      <td></td>\n",
              "      <td></td>\n",
              "    </tr>\n",
              "    <tr>\n",
              "      <th>2</th>\n",
              "      <td>3</td>\n",
              "      <td>NaN</td>\n",
              "      <td>there is a forest fire at spot pond, geese are...</td>\n",
              "      <td>-1.00</td>\n",
              "      <td>0</td>\n",
              "      <td>fleeing</td>\n",
              "      <td></td>\n",
              "      <td></td>\n",
              "      <td></td>\n",
              "      <td></td>\n",
              "      <td></td>\n",
              "      <td></td>\n",
              "      <td></td>\n",
              "      <td></td>\n",
              "      <td></td>\n",
              "    </tr>\n",
              "    <tr>\n",
              "      <th>3</th>\n",
              "      <td>9</td>\n",
              "      <td>NaN</td>\n",
              "      <td>Apocalypse lighting. #Spokane #wildfires</td>\n",
              "      <td>0.00</td>\n",
              "      <td>0</td>\n",
              "      <td></td>\n",
              "      <td></td>\n",
              "      <td></td>\n",
              "      <td></td>\n",
              "      <td></td>\n",
              "      <td></td>\n",
              "      <td></td>\n",
              "      <td></td>\n",
              "      <td></td>\n",
              "      <td></td>\n",
              "    </tr>\n",
              "    <tr>\n",
              "      <th>4</th>\n",
              "      <td>11</td>\n",
              "      <td>NaN</td>\n",
              "      <td>Typhoon Soudelor kills 28 in China and Taiwan</td>\n",
              "      <td>-2.00</td>\n",
              "      <td>0</td>\n",
              "      <td>kills</td>\n",
              "      <td></td>\n",
              "      <td></td>\n",
              "      <td></td>\n",
              "      <td></td>\n",
              "      <td></td>\n",
              "      <td></td>\n",
              "      <td></td>\n",
              "      <td></td>\n",
              "      <td></td>\n",
              "    </tr>\n",
              "  </tbody>\n",
              "</table>\n",
              "</div>"
            ],
            "text/plain": [
              "   id keyword  ... location_1  location_2\n",
              "0   0     NaN  ...                       \n",
              "1   2     NaN  ...                       \n",
              "2   3     NaN  ...                       \n",
              "3   9     NaN  ...                       \n",
              "4  11     NaN  ...                       \n",
              "\n",
              "[5 rows x 15 columns]"
            ]
          },
          "metadata": {
            "tags": []
          },
          "execution_count": 28
        }
      ]
    },
    {
      "cell_type": "code",
      "metadata": {
        "id": "BFmIpQaed3UR",
        "colab_type": "code",
        "colab": {}
      },
      "source": [
        "#@title Function to calculate missing values by column\n",
        "def what_missing_values(df):\n",
        "  missing_values = df.isnull().sum()\n",
        "  missing_values_percentage = (100 *  missing_values)/len(df)\n",
        "  missing_values_table = pd.concat([missing_values, missing_values_percentage], axis=1)\n",
        "  missing_values_table_renamed = missing_values_table.rename(columns={0 : 'Missing Values', 1 : '% of Total Values'})\n",
        "  missing_values_table_renamed = missing_values_table_renamed[missing_values_table_renamed.iloc[:,1] != 0].sort_values('% of Total Values', ascending=False).round(1)\n",
        "  print(\"Number of columns: \" + str(df.shape[1]))\n",
        "  print(\"There are \" + str(missing_values_table_renamed.shape[0]) +\" columns that have missing values.\")\n",
        "  return missing_values_table_renamed"
      ],
      "execution_count": 0,
      "outputs": []
    },
    {
      "cell_type": "code",
      "metadata": {
        "id": "jzJKgDgIeCGx",
        "colab_type": "code",
        "colab": {
          "base_uri": "https://localhost:8080/",
          "height": 145
        },
        "outputId": "b7bd04ef-735c-4f61-a9df-1b4e452a98e9"
      },
      "source": [
        "miss_value = what_missing_values(train_data)\n",
        "miss_value.head()"
      ],
      "execution_count": 30,
      "outputs": [
        {
          "output_type": "stream",
          "text": [
            "Number of columns: 5\n",
            "There are 2 columns that have missing values.\n"
          ],
          "name": "stdout"
        },
        {
          "output_type": "execute_result",
          "data": {
            "text/html": [
              "<div>\n",
              "<style scoped>\n",
              "    .dataframe tbody tr th:only-of-type {\n",
              "        vertical-align: middle;\n",
              "    }\n",
              "\n",
              "    .dataframe tbody tr th {\n",
              "        vertical-align: top;\n",
              "    }\n",
              "\n",
              "    .dataframe thead th {\n",
              "        text-align: right;\n",
              "    }\n",
              "</style>\n",
              "<table border=\"1\" class=\"dataframe\">\n",
              "  <thead>\n",
              "    <tr style=\"text-align: right;\">\n",
              "      <th></th>\n",
              "      <th>Missing Values</th>\n",
              "      <th>% of Total Values</th>\n",
              "    </tr>\n",
              "  </thead>\n",
              "  <tbody>\n",
              "    <tr>\n",
              "      <th>location</th>\n",
              "      <td>2533</td>\n",
              "      <td>33.3</td>\n",
              "    </tr>\n",
              "    <tr>\n",
              "      <th>keyword</th>\n",
              "      <td>61</td>\n",
              "      <td>0.8</td>\n",
              "    </tr>\n",
              "  </tbody>\n",
              "</table>\n",
              "</div>"
            ],
            "text/plain": [
              "          Missing Values  % of Total Values\n",
              "location            2533               33.3\n",
              "keyword               61                0.8"
            ]
          },
          "metadata": {
            "tags": []
          },
          "execution_count": 30
        }
      ]
    },
    {
      "cell_type": "markdown",
      "metadata": {
        "id": "4wbeslYFdZTh",
        "colab_type": "text"
      },
      "source": [
        "### Text Vectorization\n",
        "Text vectorization, or feature extraction, is the process of converting text into a numerical representation that can then be used as an input for a machine learning model or some other mathematical algorithm.  This is typically the first and most important step of any NLP task.  This notebook includes step-by-step instructions for performing a variety of text vectorization techniques on text documents.  These techniques include:\n",
        "\n",
        "* Tf-idf\n",
        "* Bag-of-words\n",
        "* Hashing\n",
        "* Sequence IDs\n",
        "* One-hot encodings\n",
        "* Word2vec"
      ]
    },
    {
      "cell_type": "code",
      "metadata": {
        "id": "vgpvD1YPaYUa",
        "colab_type": "code",
        "colab": {}
      },
      "source": [
        "# Define a set of parameters for our count vectorizers\n",
        "params = {\n",
        "    'lowercase' : True, # lowercase all letters\n",
        "    'stop_words' : stopwords.words('english') + list(punctuation), # stop words to remove\n",
        "    'n_features' : 800, # size of each vector, indicating how many words to consider.  a good value is 1,000. We\n",
        "    'binary' : False, # track occurance rather than frequency of words if True\n",
        "    'ngram_range' : (1, 1) # range of n-grams to include, i.e. (1, 3) includes 1-, 2-, and 3-grams\n",
        "}"
      ],
      "execution_count": 0,
      "outputs": []
    },
    {
      "cell_type": "markdown",
      "metadata": {
        "id": "qo5roz59YS51",
        "colab_type": "text"
      },
      "source": [
        "#### Tf - idf\n",
        "A term frequency - inverse document frequency (tf-idf) vectorizer describes the occurence of rare words in a document by measuring the frequency of each word in a document against how infrequently each word appears in other documents.  In other words, a word that occurs frequently in a document but infrequently in other documents will receive a high score.  A tf-idf vectorizer defines a vocabulary of known words and will construct a feature vector for each document based on the tf-idf weighting of each vocabulary word.\n",
        "\n",
        "In mathematical terms, the weight of each word in a document is given by:\n",
        "\n",
        "\\begin{equation*}\n",
        "W = T * log {\\frac{N}{D}}\n",
        "\\end{equation*}\n",
        "\n",
        "Where $W$ is the word score, $T$ is the number of occurences of the word in the document, $N$ is the number of documents in the corpus, and $D$ is the number of documents containing the word.\n",
        "\n",
        "e.g.\n",
        "\n",
        "    corpus: \n",
        "        the brown fox jumped over the brown dog\n",
        "        the quick fox jumped\n",
        "        fox jumped high\n",
        "        the dog is brown\n",
        "\n",
        "    document: the brown fox jumped over the brown dog\n",
        "\n",
        "    vocabulary: [a, the, of, brown, fox, house, jumped, over, with, dog]\n",
        "\n",
        "    feature vector: [0, 2*log(4/3), 0, 2*log(4/2), 1*log(4/3), 0, 1*log(4/3), 1*log(4/1), 0, 1*log(4/2)]\n",
        "                    [0, 0.575, 0, 1.386, 0.288, 0, 0.288, 1.386, 0, 0.693]"
      ]
    },
    {
      "cell_type": "code",
      "metadata": {
        "id": "RGDyiTZ68UVu",
        "colab_type": "code",
        "colab": {}
      },
      "source": [
        "from sklearn.feature_extraction.text import TfidfVectorizer"
      ],
      "execution_count": 0,
      "outputs": []
    },
    {
      "cell_type": "code",
      "metadata": {
        "id": "yy4BM-sUbPOW",
        "colab_type": "code",
        "colab": {}
      },
      "source": [
        "# Initialize a Tfidf vectorizer object using our parameters\n",
        "tfidf_vectorizer = TfidfVectorizer(\n",
        "    lowercase=params['lowercase'],\n",
        "    stop_words=params['stop_words'],\n",
        "    max_features=params['n_features'],\n",
        "    binary=params['binary'],\n",
        "    ngram_range=params['ngram_range']\n",
        ")"
      ],
      "execution_count": 0,
      "outputs": []
    },
    {
      "cell_type": "code",
      "metadata": {
        "id": "zJGfl9mpdxSd",
        "colab_type": "code",
        "colab": {}
      },
      "source": [
        " train_data_tfidf = train_data_copy.copy()\n",
        " test_data_tfidf = test_data_copy.copy()"
      ],
      "execution_count": 0,
      "outputs": []
    },
    {
      "cell_type": "code",
      "metadata": {
        "id": "WcYTsdEDbpV_",
        "colab_type": "code",
        "colab": {}
      },
      "source": [
        "# Fit vectorizer using our train texts and transform both our train and test sets into feature vectors.\n",
        "# Feature vectors are returned as sparse vectors\n",
        "train_tfidf_features = tfidf_vectorizer.fit_transform(train_data_tfidf['text'])\n",
        "test_tfidf_features = tfidf_vectorizer.transform(test_data_tfidf['text'])\n",
        "\n",
        "# Convert to dense vectors\n",
        "train_tfidf_features = train_tfidf_features.todense()\n",
        "test_tfidf_features = test_tfidf_features.todense()"
      ],
      "execution_count": 0,
      "outputs": []
    },
    {
      "cell_type": "code",
      "metadata": {
        "id": "mnUcPIo0fLLn",
        "colab_type": "code",
        "colab": {}
      },
      "source": [
        "train_data_tfidf.drop(labels=['text'], axis=\"columns\", inplace=True)\n",
        "train_tfidf_features = pd.DataFrame(train_tfidf_features)\n",
        "train_data_tfidf = pd.concat([train_data_tfidf, train_tfidf_features], axis=1)"
      ],
      "execution_count": 0,
      "outputs": []
    },
    {
      "cell_type": "code",
      "metadata": {
        "id": "q4ijzkxQrM_C",
        "colab_type": "code",
        "colab": {}
      },
      "source": [
        "test_data_tfidf.drop(labels=['text'], axis=\"columns\", inplace=True)\n",
        "test_tfidf_features = pd.DataFrame(test_tfidf_features)\n",
        "test_data_tfidf = pd.concat([test_data_tfidf, test_tfidf_features], axis=1)"
      ],
      "execution_count": 0,
      "outputs": []
    },
    {
      "cell_type": "markdown",
      "metadata": {
        "id": "ud0ZAg-S3ZBI",
        "colab_type": "text"
      },
      "source": [
        "For the labels on the several locations and the sentyments in each tweet we would use One-Hot-Encoding"
      ]
    },
    {
      "cell_type": "code",
      "metadata": {
        "id": "45np6ZS06rFF",
        "colab_type": "code",
        "colab": {
          "base_uri": "https://localhost:8080/",
          "height": 51
        },
        "outputId": "6fee70a0-171a-4721-8790-a68169eb20d6"
      },
      "source": [
        "train_data_tfidf = pd.get_dummies(train_data_tfidf)\n",
        "test_data_tfidf = pd.get_dummies(test_data_tfidf)\n",
        "\n",
        "print('Train shape:' +  str(train_data_tfidf.shape))\n",
        "print('Test shape:' + str(test_data_tfidf.shape))"
      ],
      "execution_count": 38,
      "outputs": [
        {
          "output_type": "stream",
          "text": [
            "Train shape:(7613, 4064)\n",
            "Test shape:(3263, 2885)\n"
          ],
          "name": "stdout"
        }
      ]
    },
    {
      "cell_type": "markdown",
      "metadata": {
        "id": "O3RkY12b-AwQ",
        "colab_type": "text"
      },
      "source": [
        "There need to be the same features (columns) in both the training and testing."
      ]
    },
    {
      "cell_type": "code",
      "metadata": {
        "id": "IMf7TdTF7DNO",
        "colab_type": "code",
        "colab": {
          "base_uri": "https://localhost:8080/",
          "height": 51
        },
        "outputId": "a5cc7c90-f7cb-43c0-f67d-c721a76a167f"
      },
      "source": [
        "train_labels = train_data_tfidf['target']\n",
        "\n",
        "train_data_tfidf, test_data_tfidf = train_data_tfidf.align(test_data_tfidf, join='inner', axis=1)\n",
        "\n",
        "train_data_tfidf['target'] = train_labels\n",
        "\n",
        "print('Training Features shape: ', train_data_tfidf.shape)\n",
        "print('Testing Features shape: ', test_data_tfidf.shape)"
      ],
      "execution_count": 39,
      "outputs": [
        {
          "output_type": "stream",
          "text": [
            "Training Features shape:  (7613, 2228)\n",
            "Testing Features shape:  (3263, 2227)\n"
          ],
          "name": "stdout"
        }
      ]
    },
    {
      "cell_type": "markdown",
      "metadata": {
        "id": "wGn8Iq7_Xbzn",
        "colab_type": "text"
      },
      "source": [
        "#### Bag of Words\n",
        "\n",
        "A bag-of-words vectorizer describes the occurence of words wothin a document. It first defines a limited vocabulary of known words and then for each document mesures the presence of these known words. It can either construct feature vector with the counts of each vocabulary found in the document or, in the binary case, simply indicate whether or not each vocabulary word is found in the document. Thus the number of features in the vector is equal to the number of words in the known vocabulary.\n",
        "\n",
        "e.g. \n",
        "\n",
        "    document: the brown fox jumped over the brown dog\n",
        "\n",
        "    vocabulary: [a, the, of, brown, fox, house, jumped, over, with, dog]\n",
        "\n",
        "    count feature vector: [0, 2, 0, 2, 1, 0, 1, 1, 0, 1]\n",
        "    \n",
        "    binary feature vector: [0, 1, 0, 1, 1, 0, 1, 1, 0, 1]"
      ]
    },
    {
      "cell_type": "code",
      "metadata": {
        "id": "CYqgFT70YUQT",
        "colab_type": "code",
        "colab": {}
      },
      "source": [
        "from sklearn.feature_extraction.text import CountVectorizer"
      ],
      "execution_count": 0,
      "outputs": []
    },
    {
      "cell_type": "code",
      "metadata": {
        "id": "BrwPrBKrYXPi",
        "colab_type": "code",
        "colab": {}
      },
      "source": [
        "# Initialize a bag of words object using our parameters\n",
        "count_vectorizer = CountVectorizer(\n",
        "    lowercase=params['lowercase'], \n",
        "    stop_words=params['stop_words'],\n",
        "    max_features=params['n_features'],\n",
        "    binary=params['binary'],\n",
        "    ngram_range=params['ngram_range']\n",
        ")"
      ],
      "execution_count": 0,
      "outputs": []
    },
    {
      "cell_type": "code",
      "metadata": {
        "id": "_CY0MAH7YjhG",
        "colab_type": "code",
        "colab": {}
      },
      "source": [
        " train_data_bow = train_data_copy.copy()\n",
        " test_data_bow = test_data_copy.copy()"
      ],
      "execution_count": 0,
      "outputs": []
    },
    {
      "cell_type": "code",
      "metadata": {
        "id": "3XaOqp9NYeaM",
        "colab_type": "code",
        "colab": {}
      },
      "source": [
        "# Fit vectorizer using our train texts and transform both our train and test sets into feature vectors.\n",
        "# Feature vectors are returned as sparse vectors\n",
        "train_count_features = count_vectorizer.fit_transform(train_data_bow['text'])\n",
        "test_count_features = count_vectorizer.transform(test_data_bow['text'])\n",
        "\n",
        "# Convert to dense vectors\n",
        "train_count_features = train_count_features.todense()\n",
        "test_count_features = test_count_features.todense()"
      ],
      "execution_count": 0,
      "outputs": []
    },
    {
      "cell_type": "code",
      "metadata": {
        "id": "GcP0cXidZg79",
        "colab_type": "code",
        "colab": {}
      },
      "source": [
        "train_data_bow.drop(labels=['text'], axis=\"columns\", inplace=True)\n",
        "train_count_features = pd.DataFrame(train_count_features)\n",
        "train_data_bow = pd.concat([train_data_bow, train_count_features], axis=1)"
      ],
      "execution_count": 0,
      "outputs": []
    },
    {
      "cell_type": "code",
      "metadata": {
        "id": "hbyZU_VzZr14",
        "colab_type": "code",
        "colab": {}
      },
      "source": [
        "test_data_bow.drop(labels=['text'], axis=\"columns\", inplace=True)\n",
        "test_count_features = pd.DataFrame(test_count_features)\n",
        "test_data_bow = pd.concat([test_data_bow, test_count_features], axis=1)"
      ],
      "execution_count": 0,
      "outputs": []
    },
    {
      "cell_type": "markdown",
      "metadata": {
        "id": "GDAG6r4dZXsU",
        "colab_type": "text"
      },
      "source": [
        "For the labels on the several locations and the sentyments in each tweet we would use One-Hot-Encoding"
      ]
    },
    {
      "cell_type": "code",
      "metadata": {
        "id": "NAuGsXtRYt4S",
        "colab_type": "code",
        "colab": {
          "base_uri": "https://localhost:8080/",
          "height": 51
        },
        "outputId": "e5632479-a2b6-470b-ff23-41b6d4bde859"
      },
      "source": [
        "train_data_bow = pd.get_dummies(train_data_bow)\n",
        "test_data_bow = pd.get_dummies(test_data_bow)\n",
        "\n",
        "print('Train shape:' +  str(train_data_bow.shape))\n",
        "print('Test shape:' + str(test_data_bow.shape))"
      ],
      "execution_count": 46,
      "outputs": [
        {
          "output_type": "stream",
          "text": [
            "Train shape:(7613, 4064)\n",
            "Test shape:(3263, 2885)\n"
          ],
          "name": "stdout"
        }
      ]
    },
    {
      "cell_type": "markdown",
      "metadata": {
        "id": "wXMmxWPOZ699",
        "colab_type": "text"
      },
      "source": [
        "There need to be the same features (columns) in both the training and testing."
      ]
    },
    {
      "cell_type": "code",
      "metadata": {
        "id": "HA_EDuZFZ930",
        "colab_type": "code",
        "colab": {
          "base_uri": "https://localhost:8080/",
          "height": 51
        },
        "outputId": "61a18979-a90d-48dd-a661-c49d8b51e781"
      },
      "source": [
        "train_labels = train_data_bow['target']\n",
        "\n",
        "train_data_bow, test_data_bow = train_data_bow.align(test_data_bow, join='inner', axis=1)\n",
        "\n",
        "train_data_bow['target'] = train_labels\n",
        "\n",
        "print('Training Features shape: ', train_data_bow.shape)\n",
        "print('Testing Features shape: ', test_data_bow.shape)"
      ],
      "execution_count": 47,
      "outputs": [
        {
          "output_type": "stream",
          "text": [
            "Training Features shape:  (7613, 2228)\n",
            "Testing Features shape:  (3263, 2227)\n"
          ],
          "name": "stdout"
        }
      ]
    },
    {
      "cell_type": "markdown",
      "metadata": {
        "id": "md-Ky16WPL7v",
        "colab_type": "text"
      },
      "source": [
        "### Model Building"
      ]
    },
    {
      "cell_type": "code",
      "metadata": {
        "id": "Im9kFkrqaPNe",
        "colab_type": "code",
        "colab": {}
      },
      "source": [
        "# Split the data\n",
        "train_labels = train_data_tfidf['target']\n",
        "train_data_tfidf = train_data_tfidf.drop('target', axis=1)\n",
        "X_train, X_test, y_train, y_test = train_test_split(train_data_tfidf, train_labels, test_size=0.2, random_state=0)"
      ],
      "execution_count": 0,
      "outputs": []
    },
    {
      "cell_type": "markdown",
      "metadata": {
        "id": "2KwiRU8ZVYap",
        "colab_type": "text"
      },
      "source": [
        "#### Logistic Regression\n",
        "Logistic regression is named for the function used at the core of the method, the logistic function. The logistic function, also called the sigmoid function, it’s an S-shaped curve that can take any real-valued number and map it into a value between 0 and 1, but never exactly at those limits.\n",
        "\n",
        "\\begin{equation*}\n",
        "y =  {\\frac{1}{1-e^{-x}}}\n",
        "\\end{equation*}\n",
        "\n",
        "In Logistic Regression, input values $x$ are combined linearly using weights or coefficient values to predict an output value $y$. A key difference from linear regression is that the output value being modeled is a binary values (0 or 1) rather than a numeric value.\n",
        "\n",
        "\\begin{equation*}\n",
        "y = {\\frac{e^{b_0 + b_1 x}}{1 + e^{b_0 + b_1 x}}}\n",
        "\\end{equation*}\n",
        "\n",
        "Where $y$ is the predicted output, $b_0$ is the bias or intercept term and $b_1$ is the coefficient for the single input value $x$. Each column in your input data has an associated $b$ coefficient (a constant real value) that must be learned from your training data."
      ]
    },
    {
      "cell_type": "code",
      "metadata": {
        "id": "4QPXHNUtPLvT",
        "colab_type": "code",
        "colab": {}
      },
      "source": [
        "from sklearn.linear_model import LogisticRegression\n",
        "\n",
        "logistic_regression = LogisticRegression(C=1e5)"
      ],
      "execution_count": 0,
      "outputs": []
    },
    {
      "cell_type": "code",
      "metadata": {
        "id": "xwPOH0G7AUGl",
        "colab_type": "code",
        "colab": {
          "base_uri": "https://localhost:8080/",
          "height": 102
        },
        "outputId": "11c3b964-8bb0-4193-e4ff-1da6b6d6969e"
      },
      "source": [
        "logistic_regression.fit(X_train, y_train)"
      ],
      "execution_count": 70,
      "outputs": [
        {
          "output_type": "execute_result",
          "data": {
            "text/plain": [
              "LogisticRegression(C=100000.0, class_weight=None, dual=False,\n",
              "                   fit_intercept=True, intercept_scaling=1, l1_ratio=None,\n",
              "                   max_iter=100, multi_class='auto', n_jobs=None, penalty='l2',\n",
              "                   random_state=None, solver='lbfgs', tol=0.0001, verbose=0,\n",
              "                   warm_start=False)"
            ]
          },
          "metadata": {
            "tags": []
          },
          "execution_count": 70
        }
      ]
    },
    {
      "cell_type": "markdown",
      "metadata": {
        "id": "PSLgchG7RXCp",
        "colab_type": "text"
      },
      "source": [
        "#### Random Forest\n",
        "It is an ensembe tree-based learning algoritm. The Random Forest Classifie is a set of decision trees from randomly selected subset of training set. It aggregates the votes from different decision trees to decide the final class of the test object.\n",
        "\n",
        "Ensemble algorithms are those which combines more than one algorithms of same or different kind for classifying objects. For example, running prediction over Naive Bayes, SVM and Decision Tree and then taking vote for final consideration of class for test object.\n",
        "\n"
      ]
    },
    {
      "cell_type": "code",
      "metadata": {
        "id": "yVay_1TaTX5Q",
        "colab_type": "code",
        "colab": {}
      },
      "source": [
        "from sklearn.ensemble import RandomForestClassifier\n",
        "\n",
        "random_forest = RandomForestClassifier(n_estimators=100, criterion='entropy', random_state=0)"
      ],
      "execution_count": 0,
      "outputs": []
    },
    {
      "cell_type": "code",
      "metadata": {
        "id": "IUyajKQMUP-g",
        "colab_type": "code",
        "colab": {
          "base_uri": "https://localhost:8080/",
          "height": 153
        },
        "outputId": "99a3b440-08d8-4628-8b98-004b86138014"
      },
      "source": [
        "random_forest.fit(X_train, y_train)"
      ],
      "execution_count": 77,
      "outputs": [
        {
          "output_type": "execute_result",
          "data": {
            "text/plain": [
              "RandomForestClassifier(bootstrap=True, ccp_alpha=0.0, class_weight=None,\n",
              "                       criterion='entropy', max_depth=None, max_features='auto',\n",
              "                       max_leaf_nodes=None, max_samples=None,\n",
              "                       min_impurity_decrease=0.0, min_impurity_split=None,\n",
              "                       min_samples_leaf=1, min_samples_split=2,\n",
              "                       min_weight_fraction_leaf=0.0, n_estimators=100,\n",
              "                       n_jobs=None, oob_score=False, random_state=0, verbose=0,\n",
              "                       warm_start=False)"
            ]
          },
          "metadata": {
            "tags": []
          },
          "execution_count": 77
        }
      ]
    },
    {
      "cell_type": "markdown",
      "metadata": {
        "id": "E5ExJTeMBZ2p",
        "colab_type": "text"
      },
      "source": [
        "### Confusion Matrix\n",
        "It is a performance measurement for machine learning classification problem where output can be two or more classes. It is a table with 4 different combinations of predicted and actual values. Read more about the confusion matrix in [this](https://towardsdatascience.com/understanding-confusion-matrix-a9ad42dcfd62) link.\n"
      ]
    },
    {
      "cell_type": "code",
      "metadata": {
        "id": "bbJXPBPiHyQF",
        "colab_type": "code",
        "colab": {}
      },
      "source": [
        "import matplotlib.pyplot as plt\n",
        "import seaborn as sns\n",
        "from sklearn.metrics import confusion_matrix, f1_score"
      ],
      "execution_count": 0,
      "outputs": []
    },
    {
      "cell_type": "markdown",
      "metadata": {
        "id": "32kwweGVIDZU",
        "colab_type": "text"
      },
      "source": [
        "#### CM - Logistic Regression"
      ]
    },
    {
      "cell_type": "code",
      "metadata": {
        "id": "yMRhdwKlCFZc",
        "colab_type": "code",
        "colab": {}
      },
      "source": [
        "# Make prediction in the test data\n",
        "lg_predictions = logistic_regression.predict(X_test)"
      ],
      "execution_count": 0,
      "outputs": []
    },
    {
      "cell_type": "code",
      "metadata": {
        "id": "l1tIwONOHmCW",
        "colab_type": "code",
        "colab": {
          "base_uri": "https://localhost:8080/",
          "height": 51
        },
        "outputId": "a31d36f7-01ba-4406-ebfe-e2e088b6f782"
      },
      "source": [
        "accuracy = logistic_regression.score(X_test, y_test)\n",
        "print(\"Logistic Regression - Accuracy: \" + str(accuracy))\n",
        "f1 = f1_score(y_test, lg_predictions, average='macro')\n",
        "print(\"Logistic Regression - F1 Score: \"+ str(f1))"
      ],
      "execution_count": 73,
      "outputs": [
        {
          "output_type": "stream",
          "text": [
            "Logistic Regression - Accuracy: 0.7544320420223244\n",
            "Logistic Regression - F1 Score: 0.7437466483834861\n"
          ],
          "name": "stdout"
        }
      ]
    },
    {
      "cell_type": "code",
      "metadata": {
        "id": "LdpWMoHFH2Lx",
        "colab_type": "code",
        "colab": {
          "base_uri": "https://localhost:8080/",
          "height": 520
        },
        "outputId": "0c1308db-89c4-4931-dfe8-ec55d19b52bf"
      },
      "source": [
        "cm = confusion_matrix(y_test, lg_predictions)\n",
        "plt.figure(figsize=(9,9))\n",
        "sns.heatmap(cm, annot=True, fmt=\".3f\", linewidths=.5, square = True, cmap = 'Blues_r');\n",
        "plt.ylabel('Actual label');\n",
        "plt.xlabel('Predicted label');\n",
        "all_sample_title = 'Accuracy Score: {0}'.format(accuracy)\n",
        "plt.title(all_sample_title, size = 15);"
      ],
      "execution_count": 74,
      "outputs": [
        {
          "output_type": "display_data",
          "data": {
            "image/png": "[encoded data removed]",
            "text/plain": [
              "<Figure size 648x648 with 2 Axes>"
            ]
          },
          "metadata": {
            "tags": []
          }
        }
      ]
    },
    {
      "cell_type": "markdown",
      "metadata": {
        "id": "rZP3M3rgUbpu",
        "colab_type": "text"
      },
      "source": [
        "#### CM - Random Forest "
      ]
    },
    {
      "cell_type": "code",
      "metadata": {
        "id": "rAVObKyxUi2K",
        "colab_type": "code",
        "colab": {}
      },
      "source": [
        "# Make prediction in the test data\n",
        "rf_predictions = random_forest.predict(X_test)"
      ],
      "execution_count": 0,
      "outputs": []
    },
    {
      "cell_type": "code",
      "metadata": {
        "id": "JrSkj88aUo8o",
        "colab_type": "code",
        "colab": {
          "base_uri": "https://localhost:8080/",
          "height": 51
        },
        "outputId": "1cd4daa6-fc13-4704-a033-8621870dd317"
      },
      "source": [
        "accuracy = random_forest.score(X_test, y_test)\n",
        "print(\"Random Forest - Accuracy: \" + str(accuracy))\n",
        "f1 = f1_score(y_test, rf_predictions, average='macro')\n",
        "print(\"Random Forest - F1 Score: \"+ str(f1))"
      ],
      "execution_count": 79,
      "outputs": [
        {
          "output_type": "stream",
          "text": [
            "Random Forest - Accuracy: 0.7866053841103086\n",
            "Random Forest - F1 Score: 0.7733739907193107\n"
          ],
          "name": "stdout"
        }
      ]
    },
    {
      "cell_type": "code",
      "metadata": {
        "id": "DTfMSs3_VhFz",
        "colab_type": "code",
        "colab": {
          "base_uri": "https://localhost:8080/",
          "height": 520
        },
        "outputId": "34c35b4f-2d97-4786-e08f-c67c30f66d97"
      },
      "source": [
        "cm = confusion_matrix(y_test, rf_predictions)\n",
        "plt.figure(figsize=(9,9))\n",
        "sns.heatmap(cm, annot=True, fmt=\".3f\", linewidths=.5, square = True, cmap = 'Blues_r');\n",
        "plt.ylabel('Actual label');\n",
        "plt.xlabel('Predicted label');\n",
        "all_sample_title = 'Accuracy Score: {0}'.format(accuracy)\n",
        "plt.title(all_sample_title, size = 15);"
      ],
      "execution_count": 80,
      "outputs": [
        {
          "output_type": "display_data",
          "data": {
            "image/png": "[encoded data removed]",
            "text/plain": [
              "<Figure size 648x648 with 2 Axes>"
            ]
          },
          "metadata": {
            "tags": []
          }
        }
      ]
    },
    {
      "cell_type": "markdown",
      "metadata": {
        "id": "UG2BX9Tsb0DS",
        "colab_type": "text"
      },
      "source": [
        "### Submission\n",
        "Here we prepare the submission file for the competition"
      ]
    },
    {
      "cell_type": "code",
      "metadata": {
        "id": "vDHFIqxAcGsT",
        "colab_type": "code",
        "colab": {
          "base_uri": "https://localhost:8080/",
          "height": 204
        },
        "outputId": "49091694-ffff-4eb9-b7ff-bf1ba4d3a912"
      },
      "source": [
        "example_sub = pd.read_csv('data/sample_submission.csv')\n",
        "example_sub.head()"
      ],
      "execution_count": 60,
      "outputs": [
        {
          "output_type": "execute_result",
          "data": {
            "text/html": [
              "<div>\n",
              "<style scoped>\n",
              "    .dataframe tbody tr th:only-of-type {\n",
              "        vertical-align: middle;\n",
              "    }\n",
              "\n",
              "    .dataframe tbody tr th {\n",
              "        vertical-align: top;\n",
              "    }\n",
              "\n",
              "    .dataframe thead th {\n",
              "        text-align: right;\n",
              "    }\n",
              "</style>\n",
              "<table border=\"1\" class=\"dataframe\">\n",
              "  <thead>\n",
              "    <tr style=\"text-align: right;\">\n",
              "      <th></th>\n",
              "      <th>id</th>\n",
              "      <th>target</th>\n",
              "    </tr>\n",
              "  </thead>\n",
              "  <tbody>\n",
              "    <tr>\n",
              "      <th>0</th>\n",
              "      <td>0</td>\n",
              "      <td>0</td>\n",
              "    </tr>\n",
              "    <tr>\n",
              "      <th>1</th>\n",
              "      <td>2</td>\n",
              "      <td>0</td>\n",
              "    </tr>\n",
              "    <tr>\n",
              "      <th>2</th>\n",
              "      <td>3</td>\n",
              "      <td>0</td>\n",
              "    </tr>\n",
              "    <tr>\n",
              "      <th>3</th>\n",
              "      <td>9</td>\n",
              "      <td>0</td>\n",
              "    </tr>\n",
              "    <tr>\n",
              "      <th>4</th>\n",
              "      <td>11</td>\n",
              "      <td>0</td>\n",
              "    </tr>\n",
              "  </tbody>\n",
              "</table>\n",
              "</div>"
            ],
            "text/plain": [
              "   id  target\n",
              "0   0       0\n",
              "1   2       0\n",
              "2   3       0\n",
              "3   9       0\n",
              "4  11       0"
            ]
          },
          "metadata": {
            "tags": []
          },
          "execution_count": 60
        }
      ]
    },
    {
      "cell_type": "markdown",
      "metadata": {
        "id": "Xrrgq8Xbcudl",
        "colab_type": "text"
      },
      "source": [
        "We would make our submission with the data vectorized using TF - IF and predicted with the Logic Regression Model."
      ]
    },
    {
      "cell_type": "code",
      "metadata": {
        "id": "hf0_69jVc6nz",
        "colab_type": "code",
        "colab": {
          "base_uri": "https://localhost:8080/",
          "height": 34
        },
        "outputId": "45707009-4e32-433f-911d-ce829f12de2b"
      },
      "source": [
        "predictions = logistic_regression.predict(test_data_tfidf)"
      ],
      "execution_count": 94,
      "outputs": [
        {
          "output_type": "execute_result",
          "data": {
            "text/plain": [
              "array([1, 0, 0, ..., 1, 1, 0])"
            ]
          },
          "metadata": {
            "tags": []
          },
          "execution_count": 94
        }
      ]
    },
    {
      "cell_type": "code",
      "metadata": {
        "id": "3DTUmCkXeUae",
        "colab_type": "code",
        "colab": {
          "base_uri": "https://localhost:8080/",
          "height": 204
        },
        "outputId": "c3ca2ee8-dea9-4dee-cb0a-c262b069ca2c"
      },
      "source": [
        "ids = train_data_tfidf.filter(['id'], axis=1)\n",
        "predictions = pd.DataFrame(predictions, columns=['target'])\n",
        "submission = pd.concat([ids, predictions], axis=1)\n",
        "submission.head()"
      ],
      "execution_count": 96,
      "outputs": [
        {
          "output_type": "execute_result",
          "data": {
            "text/html": [
              "<div>\n",
              "<style scoped>\n",
              "    .dataframe tbody tr th:only-of-type {\n",
              "        vertical-align: middle;\n",
              "    }\n",
              "\n",
              "    .dataframe tbody tr th {\n",
              "        vertical-align: top;\n",
              "    }\n",
              "\n",
              "    .dataframe thead th {\n",
              "        text-align: right;\n",
              "    }\n",
              "</style>\n",
              "<table border=\"1\" class=\"dataframe\">\n",
              "  <thead>\n",
              "    <tr style=\"text-align: right;\">\n",
              "      <th></th>\n",
              "      <th>id</th>\n",
              "      <th>target</th>\n",
              "    </tr>\n",
              "  </thead>\n",
              "  <tbody>\n",
              "    <tr>\n",
              "      <th>0</th>\n",
              "      <td>1</td>\n",
              "      <td>1.0</td>\n",
              "    </tr>\n",
              "    <tr>\n",
              "      <th>1</th>\n",
              "      <td>4</td>\n",
              "      <td>0.0</td>\n",
              "    </tr>\n",
              "    <tr>\n",
              "      <th>2</th>\n",
              "      <td>5</td>\n",
              "      <td>0.0</td>\n",
              "    </tr>\n",
              "    <tr>\n",
              "      <th>3</th>\n",
              "      <td>6</td>\n",
              "      <td>0.0</td>\n",
              "    </tr>\n",
              "    <tr>\n",
              "      <th>4</th>\n",
              "      <td>7</td>\n",
              "      <td>0.0</td>\n",
              "    </tr>\n",
              "  </tbody>\n",
              "</table>\n",
              "</div>"
            ],
            "text/plain": [
              "   id  target\n",
              "0   1     1.0\n",
              "1   4     0.0\n",
              "2   5     0.0\n",
              "3   6     0.0\n",
              "4   7     0.0"
            ]
          },
          "metadata": {
            "tags": []
          },
          "execution_count": 96
        }
      ]
    },
    {
      "cell_type": "code",
      "metadata": {
        "id": "EAB0SqEFgjNL",
        "colab_type": "code",
        "colab": {}
      },
      "source": [
        "submission.to_csv('submision.csv', index=False)"
      ],
      "execution_count": 0,
      "outputs": []
    }
  ]
}